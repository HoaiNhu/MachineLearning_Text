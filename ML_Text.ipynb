{
  "nbformat": 4,
  "nbformat_minor": 0,
  "metadata": {
    "colab": {
      "provenance": [],
      "gpuType": "T4",
      "mount_file_id": "1COMlnF-M62PhPKBu3ye5VDnSb9X3cEDA",
      "authorship_tag": "ABX9TyNya8mpxTmwZUJMJYE6FYW4",
      "include_colab_link": true
    },
    "kernelspec": {
      "name": "python3",
      "display_name": "Python 3"
    },
    "language_info": {
      "name": "python"
    },
    "accelerator": "GPU"
  },
  "cells": [
    {
      "cell_type": "markdown",
      "metadata": {
        "id": "view-in-github",
        "colab_type": "text"
      },
      "source": [
        "<a href=\"https://colab.research.google.com/github/HoaiNhu/MachineLearning_Text/blob/main/ML_Text.ipynb\" target=\"_parent\"><img src=\"https://colab.research.google.com/assets/colab-badge.svg\" alt=\"Open In Colab\"/></a>"
      ]
    },
    {
      "cell_type": "code",
      "source": [
        "!pip install kaggle\n"
      ],
      "metadata": {
        "id": "BDo2bfERaRCK"
      },
      "execution_count": null,
      "outputs": []
    },
    {
      "cell_type": "code",
      "source": [
        "import kagglehub\n",
        "\n",
        "# Download latest version\n",
        "path = kagglehub.dataset_download(\"sunilthite/text-document-classification-dataset\")\n",
        "\n",
        "print(\"Path to dataset files:\", path)"
      ],
      "metadata": {
        "colab": {
          "base_uri": "https://localhost:8080/"
        },
        "id": "VX6J2WlVaXmI",
        "outputId": "899d56d7-b245-4168-fae7-0abcfcc05706"
      },
      "execution_count": 2,
      "outputs": [
        {
          "output_type": "stream",
          "name": "stdout",
          "text": [
            "Downloading from https://www.kaggle.com/api/v1/datasets/download/sunilthite/text-document-classification-dataset?dataset_version_number=1...\n"
          ]
        },
        {
          "output_type": "stream",
          "name": "stderr",
          "text": [
            "100%|██████████| 1.85M/1.85M [00:00<00:00, 38.4MB/s]"
          ]
        },
        {
          "output_type": "stream",
          "name": "stdout",
          "text": [
            "Extracting files...\n",
            "Path to dataset files: /root/.cache/kagglehub/datasets/sunilthite/text-document-classification-dataset/versions/1\n"
          ]
        },
        {
          "output_type": "stream",
          "name": "stderr",
          "text": [
            "\n"
          ]
        }
      ]
    },
    {
      "cell_type": "markdown",
      "source": [
        "# **Tiền xử lí dữ liệu**"
      ],
      "metadata": {
        "id": "Tt1CgrXLWLI4"
      }
    },
    {
      "cell_type": "markdown",
      "source": [
        "Đọc dữ liệu"
      ],
      "metadata": {
        "id": "WD7aBk3HaqNF"
      }
    },
    {
      "cell_type": "code",
      "source": [
        "import os\n",
        "\n",
        "# Kiểm tra các tệp trong thư mục tải về\n",
        "print(\"Các tệp trong thư mục dữ liệu:\")\n",
        "print(os.listdir(path))\n"
      ],
      "metadata": {
        "colab": {
          "base_uri": "https://localhost:8080/"
        },
        "id": "sRZxzi_wasH6",
        "outputId": "5a566af2-e6ce-4471-8017-bdd962920073"
      },
      "execution_count": 3,
      "outputs": [
        {
          "output_type": "stream",
          "name": "stdout",
          "text": [
            "Các tệp trong thư mục dữ liệu:\n",
            "['df_file.csv']\n"
          ]
        }
      ]
    },
    {
      "cell_type": "code",
      "source": [
        "import os\n",
        "\n",
        "# Liệt kê các tệp trong thư mục\n",
        "dataset_path = '/root/.cache/kagglehub/datasets/sunilthite/text-document-classification-dataset/versions/1'\n",
        "print(\"Các tệp có trong thư mục:\")\n",
        "print(os.listdir(dataset_path))\n"
      ],
      "metadata": {
        "colab": {
          "base_uri": "https://localhost:8080/"
        },
        "id": "qP3ILvdhbO9l",
        "outputId": "e02cb3e5-6753-497d-a2c5-59d4133dd842"
      },
      "execution_count": 4,
      "outputs": [
        {
          "output_type": "stream",
          "name": "stdout",
          "text": [
            "Các tệp có trong thư mục:\n",
            "['df_file.csv']\n"
          ]
        }
      ]
    },
    {
      "cell_type": "code",
      "source": [
        "# Tạo liên kết thư mục để dễ truy cập\n",
        "!ln -s /root/.cache/kagglehub/datasets/sunilthite/text-document-classification-dataset/versions/1 /content/dataset\n",
        "\n",
        "# Kiểm tra lại trong cây thư mục /content\n",
        "!ls /content/dataset\n"
      ],
      "metadata": {
        "colab": {
          "base_uri": "https://localhost:8080/"
        },
        "id": "2vm9xBDFcNa6",
        "outputId": "20f2e012-701f-4e7e-c1b5-6b76e2b034e3"
      },
      "execution_count": 5,
      "outputs": [
        {
          "output_type": "stream",
          "name": "stdout",
          "text": [
            "df_file.csv\n"
          ]
        }
      ]
    },
    {
      "cell_type": "code",
      "source": [
        "import pandas as pd\n",
        "\n",
        "# Đường dẫn tới file CSV (cập nhật đúng đường dẫn của bạn)\n",
        "file_path = '/root/.cache/kagglehub/datasets/sunilthite/text-document-classification-dataset/versions/1/df_file.csv'\n",
        "# Đọc dữ liệu\n",
        "df = pd.read_csv(file_path)\n",
        "\n",
        "# Kiểm tra dữ liệu\n",
        "print(\"Kích thước dữ liệu:\", df.shape)\n",
        "print(df.head())\n"
      ],
      "metadata": {
        "colab": {
          "base_uri": "https://localhost:8080/"
        },
        "id": "RD4tE3xTciwJ",
        "outputId": "b2a17401-521c-4690-918e-4496db074c0e"
      },
      "execution_count": 6,
      "outputs": [
        {
          "output_type": "stream",
          "name": "stdout",
          "text": [
            "Kích thước dữ liệu: (2225, 2)\n",
            "                                                Text  Label\n",
            "0  Budget to set scene for election\\n \\n Gordon B...      0\n",
            "1  Army chiefs in regiments decision\\n \\n Militar...      0\n",
            "2  Howard denies split over ID cards\\n \\n Michael...      0\n",
            "3  Observers to monitor UK election\\n \\n Minister...      0\n",
            "4  Kilroy names election seat target\\n \\n Ex-chat...      0\n"
          ]
        }
      ]
    },
    {
      "cell_type": "markdown",
      "source": [
        "# **Tiền xử lí văn bản**"
      ],
      "metadata": {
        "id": "7vNB4BtwgPOM"
      }
    },
    {
      "cell_type": "code",
      "source": [
        "import re\n",
        "from nltk.corpus import stopwords\n",
        "from nltk.stem import WordNetLemmatizer\n",
        "\n",
        "# Tải các công cụ NLP\n",
        "import nltk\n",
        "nltk.download('stopwords')\n",
        "nltk.download('wordnet')\n",
        "\n",
        "stop_words = set(stopwords.words('english'))\n",
        "lemmatizer = WordNetLemmatizer()\n",
        "\n",
        "# Hàm tiền xử lý văn bản\n",
        "def preprocess_text(text):\n",
        "    text = re.sub(r'[^\\w\\s]', '', text)  # Loại bỏ ký tự đặc biệt\n",
        "    text = text.lower()  # Chuyển thành chữ thường\n",
        "    text = ' '.join([lemmatizer.lemmatize(word) for word in text.split() if word not in stop_words])\n",
        "    return text\n",
        "\n",
        "# Áp dụng tiền xử lý\n",
        "df['Text'] = df['Text'].apply(preprocess_text)\n",
        "print(\"Dữ liệu sau khi tiền xử lý:\")\n",
        "print(df.head())\n"
      ],
      "metadata": {
        "colab": {
          "base_uri": "https://localhost:8080/"
        },
        "id": "uAvPeLxNgT3x",
        "outputId": "deccc075-77a9-476d-8693-06178d29b546"
      },
      "execution_count": 7,
      "outputs": [
        {
          "output_type": "stream",
          "name": "stderr",
          "text": [
            "[nltk_data] Downloading package stopwords to /root/nltk_data...\n",
            "[nltk_data]   Unzipping corpora/stopwords.zip.\n",
            "[nltk_data] Downloading package wordnet to /root/nltk_data...\n"
          ]
        },
        {
          "output_type": "stream",
          "name": "stdout",
          "text": [
            "Dữ liệu sau khi tiền xử lý:\n",
            "                                                Text  Label\n",
            "0  budget set scene election gordon brown seek pu...      0\n",
            "1  army chief regiment decision military chief ex...      0\n",
            "2  howard denies split id card michael howard den...      0\n",
            "3  observer monitor uk election minister invite i...      0\n",
            "4  kilroy name election seat target exchat show h...      0\n"
          ]
        }
      ]
    },
    {
      "cell_type": "markdown",
      "source": [
        "# **Chia tập dữ liệu**"
      ],
      "metadata": {
        "id": "k4HzL3tFg-5o"
      }
    },
    {
      "cell_type": "code",
      "source": [
        "from sklearn.model_selection import train_test_split\n",
        "\n",
        "# Chia dữ liệu\n",
        "X_train, X_test, y_train, y_test = train_test_split(df['Text'], df['Label'], test_size=0.2, random_state=42)\n",
        "\n",
        "print(\"Số lượng mẫu trong tập huấn luyện:\", len(X_train))\n",
        "print(\"Số lượng mẫu trong tập kiểm tra:\", len(X_test))\n"
      ],
      "metadata": {
        "colab": {
          "base_uri": "https://localhost:8080/"
        },
        "id": "QdqY02QChBQ2",
        "outputId": "71686e8a-c68e-48ef-d9e2-dba1ca4c3978"
      },
      "execution_count": 8,
      "outputs": [
        {
          "output_type": "stream",
          "name": "stdout",
          "text": [
            "Số lượng mẫu trong tập huấn luyện: 1780\n",
            "Số lượng mẫu trong tập kiểm tra: 445\n"
          ]
        }
      ]
    },
    {
      "cell_type": "markdown",
      "source": [
        "# **Biểu diễn văn bản bằng TF-IDF**"
      ],
      "metadata": {
        "id": "zPpQg8Y9hLOH"
      }
    },
    {
      "cell_type": "code",
      "source": [
        "from sklearn.feature_extraction.text import TfidfVectorizer\n",
        "\n",
        "# Tạo vectorizer\n",
        "tfidf_vectorizer = TfidfVectorizer(max_features=5000)  # Giới hạn từ điển tối đa 5000 từ\n",
        "\n",
        "# Biểu diễn TF-IDF\n",
        "X_train_tfidf = tfidf_vectorizer.fit_transform(X_train)\n",
        "X_test_tfidf = tfidf_vectorizer.transform(X_test)\n",
        "\n",
        "print(\"Kích thước của tập dữ liệu TF-IDF:\", X_train_tfidf.shape)\n"
      ],
      "metadata": {
        "colab": {
          "base_uri": "https://localhost:8080/"
        },
        "id": "gyNh_dblhMqQ",
        "outputId": "67bbc8e5-8bbb-410a-b137-7f8ff4218b4b"
      },
      "execution_count": 15,
      "outputs": [
        {
          "output_type": "stream",
          "name": "stdout",
          "text": [
            "Kích thước của tập dữ liệu TF-IDF: (1780, 5000)\n"
          ]
        }
      ]
    },
    {
      "cell_type": "markdown",
      "source": [
        "# **Huấn luyện mô hình**"
      ],
      "metadata": {
        "id": "L32tkR5VhRq6"
      }
    },
    {
      "cell_type": "code",
      "source": [
        "from sklearn.naive_bayes import MultinomialNB\n",
        "from sklearn.metrics import accuracy_score, classification_report\n",
        "\n",
        "# Khởi tạo và huấn luyện mô hình\n",
        "model = MultinomialNB()\n",
        "model.fit(X_train_tfidf, y_train)\n",
        "\n",
        "# Dự đoán trên tập kiểm tra\n",
        "y_pred = model.predict(X_test_tfidf)\n",
        "\n",
        "# Đánh giá kết quả\n",
        "print(\"Độ chính xác:\", accuracy_score(y_test, y_pred))\n",
        "print(\"Báo cáo phân loại:\\n\", classification_report(y_test, y_pred))\n"
      ],
      "metadata": {
        "colab": {
          "base_uri": "https://localhost:8080/"
        },
        "id": "GEQx97UwhSpP",
        "outputId": "a1e41d53-0598-4365-8e9a-b109c7b2d103"
      },
      "execution_count": 16,
      "outputs": [
        {
          "output_type": "stream",
          "name": "stdout",
          "text": [
            "Độ chính xác: 0.9662921348314607\n",
            "Báo cáo phân loại:\n",
            "               precision    recall  f1-score   support\n",
            "\n",
            "           0       0.95      0.96      0.95        92\n",
            "           1       0.99      1.00      0.99        98\n",
            "           2       0.96      0.96      0.96        77\n",
            "           3       0.96      0.96      0.96        76\n",
            "           4       0.97      0.95      0.96       102\n",
            "\n",
            "    accuracy                           0.97       445\n",
            "   macro avg       0.97      0.97      0.97       445\n",
            "weighted avg       0.97      0.97      0.97       445\n",
            "\n"
          ]
        }
      ]
    },
    {
      "cell_type": "markdown",
      "source": [
        "# **Thử nghiệm với dữ liệu mới**"
      ],
      "metadata": {
        "id": "hY3JLIfYhaEe"
      }
    },
    {
      "cell_type": "code",
      "source": [
        "# new_text = \"The government announced new policies for economic growth.\"\n",
        "# new_text = \"Manchester United won the game last night with a stunning performance.\"\n",
        "# new_text = \"The stock market saw a sharp rise after positive economic reports.\"\n",
        "new_text = \"Apple releases the latest iPhone model with advanced AI features.\"\n",
        "cleaned_text = preprocess_text(new_text)\n",
        "vectorized_text = tfidf_vectorizer.transform([cleaned_text])\n",
        "\n",
        "# Dự đoán\n",
        "predicted_label = model.predict(vectorized_text)\n",
        "categories = {0: \"Politics\", 1: \"Sport\", 2: \"Technology\", 3: \"Entertainment\", 4: \"Business\"}\n",
        "print(\"Văn bản thuộc chủ đề:\", categories[predicted_label[0]])\n"
      ],
      "metadata": {
        "colab": {
          "base_uri": "https://localhost:8080/"
        },
        "id": "GCK9bHE_hdQ2",
        "outputId": "a9b3913d-d48f-44cf-989f-bac422025da6"
      },
      "execution_count": 19,
      "outputs": [
        {
          "output_type": "stream",
          "name": "stdout",
          "text": [
            "Văn bản thuộc chủ đề: Technology\n"
          ]
        }
      ]
    },
    {
      "cell_type": "code",
      "source": [
        "# Kiểm tra tổng số dòng trong DataFrame\n",
        "print(\"Tổng số dòng trong dữ liệu:\", len(df))\n",
        "\n",
        "# Kiểm tra các dòng đầu và cuối\n",
        "print(\"5 dòng đầu tiên:\")\n",
        "print(df.head())\n",
        "print(\"5 dòng cuối cùng:\")\n",
        "print(df.tail())\n"
      ],
      "metadata": {
        "colab": {
          "base_uri": "https://localhost:8080/"
        },
        "id": "UzzQeY7dh519",
        "outputId": "324c162a-bb24-4e81-c411-829f0c559481"
      },
      "execution_count": null,
      "outputs": [
        {
          "output_type": "stream",
          "name": "stdout",
          "text": [
            "Tổng số dòng trong dữ liệu: 2225\n",
            "5 dòng đầu tiên:\n",
            "                                                Text  Label\n",
            "0  budget set scene election gordon brown seek pu...      0\n",
            "1  army chief regiment decision military chief ex...      0\n",
            "2  howard denies split id card michael howard den...      0\n",
            "3  observer monitor uk election minister invite i...      0\n",
            "4  kilroy name election seat target exchat show h...      0\n",
            "5 dòng cuối cùng:\n",
            "                                                   Text  Label\n",
            "2220  india open sky competition india allow domesti...      4\n",
            "2221  yukos bankruptcy u matter russian authority ab...      4\n",
            "2222  survey confirms property slowdown government f...      4\n",
            "2223  high fuel price hit ba profit british airway b...      4\n",
            "2224  u trade gap hit record 2004 gap u export impor...      4\n"
          ]
        }
      ]
    },
    {
      "cell_type": "code",
      "source": [
        "from google.colab import drive\n",
        "drive.mount('/content/drive')\n"
      ],
      "metadata": {
        "colab": {
          "base_uri": "https://localhost:8080/"
        },
        "id": "MMGgJUn-iNYf",
        "outputId": "5a31385c-23e7-44e9-cd09-6aa3e5115462"
      },
      "execution_count": null,
      "outputs": [
        {
          "output_type": "stream",
          "name": "stdout",
          "text": [
            "Mounted at /content/drive\n"
          ]
        }
      ]
    },
    {
      "cell_type": "code",
      "source": [
        "import os\n",
        "\n",
        "# Kiểm tra xem thư mục có tồn tại không\n",
        "dataset_path = '/root/.cache/kagglehub/datasets/sunilthite/text-document-classification-dataset/versions/dataset_text'\n",
        "print(\"Dữ liệu trong thư mục:\", os.listdir(dataset_path))\n"
      ],
      "metadata": {
        "colab": {
          "base_uri": "https://localhost:8080/"
        },
        "id": "qULicT9DkEKW",
        "outputId": "54272f9e-0a6e-44a7-e057-f7d13eea8752"
      },
      "execution_count": null,
      "outputs": [
        {
          "output_type": "stream",
          "name": "stdout",
          "text": [
            "Dữ liệu trong thư mục: ['df_file.csv']\n"
          ]
        }
      ]
    },
    {
      "cell_type": "code",
      "source": [
        "# Đường dẫn đến thư mục Google Drive để lưu dữ liệu\n",
        "save_path = '/content/drive/My Drive/Colab Notebooks/dataset_text/'\n",
        "\n",
        "# Nếu thư mục chưa tồn tại, tạo thư mục mới\n",
        "os.makedirs(save_path, exist_ok=True)\n",
        "\n",
        "# Di chuyển tất cả tệp trong dataset vào thư mục Google Drive\n",
        "import shutil\n",
        "\n",
        "for file_name in os.listdir(dataset_path):\n",
        "    full_file_name = os.path.join(dataset_path, file_name)\n",
        "    if os.path.isfile(full_file_name):\n",
        "        shutil.copy(full_file_name, save_path)\n",
        "\n",
        "print(f\"Dữ liệu đã được sao chép vào: {save_path}\")\n"
      ],
      "metadata": {
        "id": "-MLLI1YQkIMS",
        "outputId": "abd0968a-a8ab-4e4d-c884-08d2dac8d768",
        "colab": {
          "base_uri": "https://localhost:8080/"
        }
      },
      "execution_count": null,
      "outputs": [
        {
          "output_type": "stream",
          "name": "stdout",
          "text": [
            "Dữ liệu đã được sao chép vào: /content/drive/My Drive/Colab Notebooks/dataset_text/\n"
          ]
        }
      ]
    }
  ]
}